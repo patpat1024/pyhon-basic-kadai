{
  "nbformat": 4,
  "nbformat_minor": 0,
  "metadata": {
    "colab": {
      "provenance": [],
      "authorship_tag": "ABX9TyOIfsx45uzLPi13tzZ+yXGb",
      "include_colab_link": true
    },
    "kernelspec": {
      "name": "python3",
      "display_name": "Python 3"
    },
    "language_info": {
      "name": "python"
    }
  },
  "cells": [
    {
      "cell_type": "markdown",
      "metadata": {
        "id": "view-in-github",
        "colab_type": "text"
      },
      "source": [
        "<a href=\"https://colab.research.google.com/github/patpat1024/pyhon-basic-kadai/blob/main/kadai_015.ipynb\" target=\"_parent\"><img src=\"https://colab.research.google.com/assets/colab-badge.svg\" alt=\"Open In Colab\"/></a>"
      ]
    },
    {
      "cell_type": "code",
      "source": [
        "#クラスの定義\n",
        "class Human:\n",
        "   # コンストラクタを定義する\n",
        "   def __init__(self, name, age):\n",
        "     self.name = name\n",
        "     self.age = age\n",
        "\n",
        "   # メソッドを定義する\n",
        "   def printinfo(self, name):\n",
        "     self.name = name\n",
        "\n",
        "   def printinfo(self):\n",
        "     print(self.name)\n",
        "\n",
        "\n",
        "# インスタンス化する\n",
        "human = Human(\"侍太郎\", 36)\n",
        "\n",
        "# 属性にアクセスし、値を出力する\n",
        "print(human.name)\n",
        "print(human.age)\n",
        "\n",
        "\n"
      ],
      "metadata": {
        "colab": {
          "base_uri": "https://localhost:8080/"
        },
        "id": "U91rPcgO7CXp",
        "outputId": "92ddfc69-282a-4252-cce6-50a0b09cfeed"
      },
      "execution_count": 7,
      "outputs": [
        {
          "output_type": "stream",
          "name": "stdout",
          "text": [
            "侍太郎\n",
            "36\n"
          ]
        }
      ]
    }
  ]
}