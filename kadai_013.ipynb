{
  "nbformat": 4,
  "nbformat_minor": 0,
  "metadata": {
    "colab": {
      "provenance": [],
      "authorship_tag": "ABX9TyOAUFwrN2/iROGHyry+nCWd",
      "include_colab_link": true
    },
    "kernelspec": {
      "name": "python3",
      "display_name": "Python 3"
    },
    "language_info": {
      "name": "python"
    }
  },
  "cells": [
    {
      "cell_type": "markdown",
      "metadata": {
        "id": "view-in-github",
        "colab_type": "text"
      },
      "source": [
        "<a href=\"https://colab.research.google.com/github/patpat1024/pyhon-basic-kadai/blob/main/kadai_013.ipynb\" target=\"_parent\"><img src=\"https://colab.research.google.com/assets/colab-badge.svg\" alt=\"Open In Colab\"/></a>"
      ]
    },
    {
      "cell_type": "code",
      "execution_count": 13,
      "metadata": {
        "colab": {
          "base_uri": "https://localhost:8080/"
        },
        "id": "wD8TGWSYZHdL",
        "outputId": "d82cf695-1ecd-465c-86e4-7f60033753f8"
      },
      "outputs": [
        {
          "output_type": "stream",
          "name": "stdout",
          "text": [
            "1320.0円\n"
          ]
        }
      ],
      "source": [
        "# 商品を購入して、消費税を加えた計算結果を返す関数を記述してください。\n",
        "# 第1引数に商品の金額、第2引数に消費税（10%）を設定できるようにしてください。\n",
        "\n",
        "# 与えられた引数priceに消費税を加算し、その値を出力する関数を定義する\n",
        "def calculate_total(price):\n",
        " # 与えられた引数priceに消費税10%を加えて代入する\n",
        " total = price * 1.1\n",
        "\n",
        " # 変数totalの値を出力する\n",
        " print(f\"{total}円\")\n",
        "\n",
        "# 関数を呼び出し、引数として購入金額を渡す\n",
        "# 商品の金額を1200円仮定して出力\n",
        "calculate_total(1200)\n"
      ]
    }
  ]
}