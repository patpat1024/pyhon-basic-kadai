{
  "nbformat": 4,
  "nbformat_minor": 0,
  "metadata": {
    "colab": {
      "provenance": [],
      "authorship_tag": "ABX9TyM0vyBwNOaDEdr55swyP+Dn",
      "include_colab_link": true
    },
    "kernelspec": {
      "name": "python3",
      "display_name": "Python 3"
    },
    "language_info": {
      "name": "python"
    }
  },
  "cells": [
    {
      "cell_type": "markdown",
      "metadata": {
        "id": "view-in-github",
        "colab_type": "text"
      },
      "source": [
        "<a href=\"https://colab.research.google.com/github/patpat1024/pyhon-basic-kadai/blob/main/kadai_013.ipynb\" target=\"_parent\"><img src=\"https://colab.research.google.com/assets/colab-badge.svg\" alt=\"Open In Colab\"/></a>"
      ]
    },
    {
      "cell_type": "code",
      "source": [
        "# 購入済みかどうかを判定する変数\n",
        "purchased = True\n",
        "\n",
        "# 戻り値を返す関数を定義する\n",
        "def is_purchased():\n",
        "   if (purchased):\n",
        "       return True\n",
        "   else:\n",
        "       return False\n",
        "\n",
        "# 戻り値を返す関数を条件式に使う（Trueであれば処理が実行される）\n",
        "if (is_purchased()):\n",
        "   print(\"商品は購入済みです。\")\n",
        "\n",
        "def add_two_arguments(price, tax):\n",
        " # 与えられた引数priceと引数taxを加算し、変数totalに代入する\n",
        "   total = int(price + price * (tax * 0.01))\n",
        "\n",
        "   return total\n",
        "\n",
        "# 関数を呼び出し、引数として購入金額と送料を渡す\n",
        "result = add_two_arguments(1200, 10)\n",
        "\n",
        "# resultの値を出力する\n",
        "print(f\"税込み{result}円\")\n"
      ],
      "metadata": {
        "colab": {
          "base_uri": "https://localhost:8080/"
        },
        "id": "E1l4Cgl0inFs",
        "outputId": "854604f8-69ab-4a4e-f41e-276c01509bea"
      },
      "execution_count": 17,
      "outputs": [
        {
          "output_type": "stream",
          "name": "stdout",
          "text": [
            "商品は購入済みです。\n",
            "税込み1320円\n"
          ]
        }
      ]
    }
  ]
}