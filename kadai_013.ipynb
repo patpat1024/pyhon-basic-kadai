{
  "nbformat": 4,
  "nbformat_minor": 0,
  "metadata": {
    "colab": {
      "provenance": [],
      "authorship_tag": "ABX9TyMf+VOIPjGrnDBmY368XC1H",
      "include_colab_link": true
    },
    "kernelspec": {
      "name": "python3",
      "display_name": "Python 3"
    },
    "language_info": {
      "name": "python"
    }
  },
  "cells": [
    {
      "cell_type": "markdown",
      "metadata": {
        "id": "view-in-github",
        "colab_type": "text"
      },
      "source": [
        "<a href=\"https://colab.research.google.com/github/patpat1024/pyhon-basic-kadai/blob/main/kadai_013.ipynb\" target=\"_parent\"><img src=\"https://colab.research.google.com/assets/colab-badge.svg\" alt=\"Open In Colab\"/></a>"
      ]
    },
    {
      "cell_type": "code",
      "execution_count": null,
      "metadata": {
        "colab": {
          "base_uri": "https://localhost:8080/"
        },
        "id": "wD8TGWSYZHdL",
        "outputId": "d82cf695-1ecd-465c-86e4-7f60033753f8"
      },
      "outputs": [
        {
          "output_type": "stream",
          "name": "stdout",
          "text": [
            "1320.0円\n"
          ]
        }
      ],
      "source": [
        "#再提出\n",
        "\n",
        "# 購入済みかどうかを判定する変数\n",
        "purchased = True\n",
        "\n",
        "# 戻り値を返す関数を定義する\n",
        "def is_purchased():\n",
        "   if (purchased):\n",
        "       return True\n",
        "   else:\n",
        "       return False\n",
        "\n",
        "# 戻り値を返す関数を条件式に使う（Trueであれば処理が実行される）\n",
        "if (is_purchased()):\n",
        "   print(\"商品は購入済みです。\")\n",
        "\n",
        "def add_two_arguments(price, tax):\n",
        " # 与えられた引数priceと引数taxを加算し、変数totalに代入する\n",
        "   total = int(price + price * (tax * 0.01))\n",
        "\n",
        "   return total\n",
        "\n",
        "# 関数を呼び出し、引数として購入金額と送料を渡す\n",
        "result = add_two_arguments(1200, 10)\n",
        "\n",
        "# resultの値を出力する\n",
        "print(f\"税込み{result}円\")\n",
        "calculate_total(1200)\n"
      ]
    },
    {
      "cell_type": "code",
      "source": [
        "#最初の提出\n",
        "\n",
        "# 商品を購入して、消費税を加えた計算結果を返す関数を記述してください。\n",
        "# 第1引数に商品の金額、第2引数に消費税（10%）を設定できるようにしてください。\n",
        "\n",
        "# 与えられた引数priceに消費税を加算し、その値を出力する関数を定義する\n",
        "def calculate_total(price):\n",
        " # 与えられた引数priceに消費税10%を加えて代入する\n",
        " total = price * 1.1\n",
        "\n",
        " # 変数totalの値を出力する\n",
        " print(f\"{total}円\")\n",
        "\n",
        "# 関数を呼び出し、引数として購入金額を渡す\n",
        "# 商品の金額を1200円仮定して出力\n",
        "calculate_total(1200)"
      ],
      "metadata": {
        "colab": {
          "base_uri": "https://localhost:8080/"
        },
        "id": "hi9pax5qw2wN",
        "outputId": "a20d1ed2-d9ad-4295-ce42-f4436e05c372"
      },
      "execution_count": 9,
      "outputs": [
        {
          "output_type": "stream",
          "name": "stdout",
          "text": [
            "1320.0円\n"
          ]
        }
      ]
    },
    {
      "cell_type": "code",
      "source": [
        "#再考中のコード\n",
        "\n",
        "# 購入済みかどうかを判定する変数\n",
        "purchased = True\n",
        "\n",
        "# 戻り値を返す関数を定義する\n",
        "def is_purchased():\n",
        "   if (purchased):\n",
        "       return True\n",
        "   else:\n",
        "       return False\n",
        "\n",
        "# 戻り値を返す関数を条件式に使う（Trueであれば処理が実行される）\n",
        "if (is_purchased()):\n",
        "   print(\"商品は購入済みです。\")\n",
        "\n",
        "def add_two_arguments(price, tax):\n",
        " # 与えられた引数priceと引数taxを加算し、変数totalに代入する\n",
        "   total = price + price * (tax * 0.01)\n",
        "\n",
        " # 変数$totalの値を出力する\n",
        "   print(f\"税込み{int(total)}円\")\n",
        "\n",
        "# 関数を呼び出し、引数として購入金額と送料を渡す\n",
        "add_two_arguments(1200, 10)\n"
      ],
      "metadata": {
        "colab": {
          "base_uri": "https://localhost:8080/"
        },
        "id": "d58jyd6RVzUc",
        "outputId": "b3352116-af95-4220-aee1-55812de9ef9a"
      },
      "execution_count": 5,
      "outputs": [
        {
          "output_type": "stream",
          "name": "stdout",
          "text": [
            "商品は購入済みです。\n",
            "税込み1320円\n"
          ]
        }
      ]
    }
  ]
}